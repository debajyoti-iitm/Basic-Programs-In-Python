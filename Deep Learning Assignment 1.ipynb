{
 "cells": [
  {
   "cell_type": "code",
   "execution_count": 85,
   "metadata": {},
   "outputs": [
    {
     "name": "stdout",
     "output_type": "stream",
     "text": [
      "[91, 22, 44, 53, 56, 16, 39, 82, 55, 44]\n",
      "91\n",
      "44\n"
     ]
    }
   ],
   "source": [
    "#Question 1: Python program to interchange first and last elements in a list.\n",
    "import random\n",
    "l = [random.randrange(1,100) for i in range(10)] #importing 10 random numbers between 1 to 100\n",
    "print(l)\n",
    "print(l[0])\n",
    "print(l[-1])\n"
   ]
  },
  {
   "cell_type": "code",
   "execution_count": 100,
   "metadata": {},
   "outputs": [
    {
     "name": "stdout",
     "output_type": "stream",
     "text": [
      "The list is: 10 20 5 45 99\n",
      "Smallest element is: 5\n"
     ]
    }
   ],
   "source": [
    "#Question 2:Python program to find smallest number in a list.\n",
    "# list of numbers\n",
    "list1 = [10, 20, 5, 45, 99] \n",
    "print(\"The list is:\", *list1[:])\n",
    "# sorting the list\n",
    "list1.sort()\n",
    "# printing the first element\n",
    "print(\"Smallest element is:\", *list1[:1])"
   ]
  },
  {
   "cell_type": "code",
   "execution_count": 45,
   "metadata": {},
   "outputs": [
    {
     "name": "stdout",
     "output_type": "stream",
     "text": [
      "The list is\n",
      "[97, 41, 53, 31, 39, 7, 63, 2, 1, 42]\n",
      "List of even numbers\n",
      "2\n",
      "42\n"
     ]
    }
   ],
   "source": [
    "#Question 3: Write a python program to print even numbers in a list.\n",
    "import random\n",
    "x = [random.randrange(1,100) for i in range(10)] #importing 10 random numbers between 1 to 100\n",
    "print(\"The list is\")\n",
    "print(x)\n",
    "print(\"List of even numbers\")\n",
    "for i in x:\n",
    "    if i%2==0: #i mod 2 is equal to 0-check\n",
    "        print(i)\n"
   ]
  },
  {
   "cell_type": "code",
   "execution_count": 101,
   "metadata": {},
   "outputs": [
    {
     "name": "stdout",
     "output_type": "stream",
     "text": [
      "The list is\n",
      "[26, 55, 68, 61, 67, 55, 97, 32, 47, 32]\n",
      "The odd numbers are\n",
      "55\n",
      "61\n",
      "67\n",
      "55\n",
      "97\n",
      "47\n"
     ]
    }
   ],
   "source": [
    "#Question 4:Write a python program to print odd numbers in a list.\n",
    "import random\n",
    "x = [random.randrange(1,100) for i in range(10)] #importing 10 random numbers between 1 to 100\n",
    "print(\"The list is\")\n",
    "print(x)\n",
    "print(\"The odd numbers are\")\n",
    "for i in x:\n",
    "    if i%2!=0: #i mod 2 is not equal to 0-check\n",
    "        print(i)"
   ]
  },
  {
   "cell_type": "code",
   "execution_count": 58,
   "metadata": {},
   "outputs": [
    {
     "name": "stdout",
     "output_type": "stream",
     "text": [
      "[-1.629052595798806, 0.0976294774166717, -0.11690934964455804, 0.040921740425214966, 1.2485721026903671, 0.9421907105475043, 1.0645701872428934, 0.5245123462417716, -0.7709872823181867, -0.2594967486556057]\n",
      "0.0976294774166717\n",
      "0.040921740425214966\n",
      "1.2485721026903671\n",
      "0.9421907105475043\n",
      "1.0645701872428934\n",
      "0.5245123462417716\n"
     ]
    }
   ],
   "source": [
    "#Question 5:Write a python program to print positive numbers in a list.\n",
    "import numpy as np #import numpy\n",
    "l=list(np.random.randn(10)) #generating a random list of 10 numbers\n",
    "print(l)\n",
    "for i in l:\n",
    "    if i>0:\n",
    "        print(i)"
   ]
  },
  {
   "cell_type": "code",
   "execution_count": 57,
   "metadata": {},
   "outputs": [
    {
     "name": "stdout",
     "output_type": "stream",
     "text": [
      "[-0.5280052569252349, -1.1107376781212828, -0.3701522107845196, 0.23580431397405896, -0.9796836811238943, -0.8943834243986364, -1.1791969248534742, -0.1713645165397095, -0.8927471246131923, -0.11276098504574271]\n",
      "-0.5280052569252349\n",
      "-1.1107376781212828\n",
      "-0.3701522107845196\n",
      "-0.9796836811238943\n",
      "-0.8943834243986364\n",
      "-1.1791969248534742\n",
      "-0.1713645165397095\n",
      "-0.8927471246131923\n",
      "-0.11276098504574271\n"
     ]
    }
   ],
   "source": [
    "#Question 6: Write a python program to print negative numbers in a list\n",
    "import numpy as np #import numpy\n",
    "l=list(np.random.randn(10)) #generating a random list of 10 numbers\n",
    "print(l)\n",
    "for i in l:\n",
    "    if i<0:\n",
    "        print(i)"
   ]
  },
  {
   "cell_type": "code",
   "execution_count": 77,
   "metadata": {},
   "outputs": [
    {
     "name": "stdout",
     "output_type": "stream",
     "text": [
      "Enter temperature in celsius :- 25\n",
      "25.000000 Celsius is :- 77.000000 Fahrenheit\n"
     ]
    }
   ],
   "source": [
    "#Question 7: Write a python program to covert Fahrenheit to Celsius\n",
    "celsius = float(input(\"Enter temperature in celsius :- \")) #give input\n",
    "fahrenheit = (celsius * 9/5) + 32 #the conversion formula\n",
    "print('%f Celsius is :- %f Fahrenheit' %(celsius, fahrenheit)) #output"
   ]
  },
  {
   "cell_type": "code",
   "execution_count": 98,
   "metadata": {},
   "outputs": [
    {
     "name": "stdout",
     "output_type": "stream",
     "text": [
      "[0.8906358108864215, 0.9560143888113315, -1.0798926429421496, 0.8601974728615249, -1.65296766084757]\n",
      "(0.8906358108864215, 0.9560143888113315, -1.0798926429421496, 0.8601974728615249, -1.65296766084757)\n",
      "Maximum is: 0.9560143888113315\n",
      "Minimum number is: -1.65296766084757\n"
     ]
    }
   ],
   "source": [
    "#Question 8: Write a python program to print maximum and minimum number in a tuple\n",
    "import numpy as np #import numpy\n",
    "x=list(np.random.randn(5)) #generating a random list of 10 numbers\n",
    "print(x)\n",
    "m=tuple(x)\n",
    "print(m) #this is a tuple\n",
    "n=list(m) #now this is a list\n",
    "#print(n)\n",
    "c=max(n) #getting maximum number from a list\n",
    "print(\"Maximum is:\", c)\n",
    "n.sort() #sorting the list\n",
    "# printing the first element\n",
    "print(\"Minimum number is:\", *n[:1])"
   ]
  },
  {
   "cell_type": "code",
   "execution_count": 99,
   "metadata": {},
   "outputs": [
    {
     "name": "stdout",
     "output_type": "stream",
     "text": [
      "[0.05294089809097975, -0.040925461416748445, 0.784865497145416, 0.29117705943308825, 0.8066761499210462]\n"
     ]
    },
    {
     "data": {
      "text/plain": [
       "(0.05294089809097975,\n",
       " -0.040925461416748445,\n",
       " 0.784865497145416,\n",
       " 0.29117705943308825,\n",
       " 0.8066761499210462)"
      ]
     },
     "execution_count": 99,
     "metadata": {},
     "output_type": "execute_result"
    }
   ],
   "source": [
    "#Question 9: Write a python program to convert a list into a tuple.\n",
    "import numpy as np #import numpy\n",
    "l=list(np.random.randn(5)) #generating a random list of 10 numbers\n",
    "print(l)\n",
    "m=tuple(l)\n",
    "m"
   ]
  },
  {
   "cell_type": "code",
   "execution_count": 111,
   "metadata": {},
   "outputs": [
    {
     "name": "stdout",
     "output_type": "stream",
     "text": [
      "The list is\n",
      "[-1.063857431237993, 2.8776759713031774, -0.19704316553196377, 2.354552956207909, -1.8533791293217943]\n",
      "The length of the list is\n",
      "5\n",
      "Appended one element:  [-1.063857431237993, 2.8776759713031774, -0.19704316553196377, 2.354552956207909, -1.8533791293217943, 3.14]\n",
      "Extended 3 elements:  [-1.063857431237993, 2.8776759713031774, -0.19704316553196377, 2.354552956207909, -1.8533791293217943, 3.14, 3.16, 5, 6, 7]\n",
      "True\n",
      "False\n"
     ]
    }
   ],
   "source": [
    "#Write a python program to create a list and use the following functions-• append() and extend() • len()• membership (in, not in)\n",
    "import numpy as np #import numpy\n",
    "l=list(np.random.randn(5)) #generating a random list of 10 numbers\n",
    "print(\"The list is\")\n",
    "print(l)\n",
    "print(\"The length of the list is\")\n",
    "print(len(l))\n",
    "l.append(3.14)\n",
    "print(\"Appended one element: \",l)\n",
    "l.extend([3.16,5,6,7])\n",
    "print(\"Extended 3 elements: \",l) \n",
    "print(3.14 in l) #True\n",
    "print(3.14 not in l) #False"
   ]
  },
  {
   "cell_type": "code",
   "execution_count": null,
   "metadata": {},
   "outputs": [],
   "source": []
  }
 ],
 "metadata": {
  "kernelspec": {
   "display_name": "Python 3",
   "language": "python",
   "name": "python3"
  },
  "language_info": {
   "codemirror_mode": {
    "name": "ipython",
    "version": 3
   },
   "file_extension": ".py",
   "mimetype": "text/x-python",
   "name": "python",
   "nbconvert_exporter": "python",
   "pygments_lexer": "ipython3",
   "version": "3.8.5"
  }
 },
 "nbformat": 4,
 "nbformat_minor": 4
}
